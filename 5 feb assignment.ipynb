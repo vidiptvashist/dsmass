{
 "cells": [
  {
   "cell_type": "markdown",
   "id": "cb45f34d-4a0d-4d5e-a2ad-597460e4605c",
   "metadata": {
    "jp-MarkdownHeadingCollapsed": true,
    "tags": []
   },
   "source": [
    "# Q1. Explain Class and Object with respect to Object-Oriented Programming. Give a suitable example.\n",
    "Class : is considered as blueprint of objects.\n",
    "```\n",
    "class name_class:\n",
    "    def __init__(self , var1 , var2):\n",
    "        self.var1 = var1\n",
    "        self.var2 = var2\n",
    "    def return_var():\n",
    "        print(\"{} and {}\".format(self.var1 , self.var2)\n",
    "```\n",
    "\n",
    "Object : is called an instance of a class \n",
    "```\n",
    "object1 = name_class(23,\"A1\")\n",
    "object2 = name_class(54 , \"B1)\n",
    "```\n"
   ]
  },
  {
   "cell_type": "markdown",
   "id": "34a875b6-c6d6-44de-a032-270f2792caea",
   "metadata": {},
   "source": [
    "# Q2. Name the four pillars of OOPs.\n",
    " 1. Inheritance\n",
    " 2. Polymorphism\n",
    " 3. Encapsulation\n",
    " 4. Abstraction\n"
   ]
  },
  {
   "cell_type": "markdown",
   "id": "dd6f15a8-3c95-4a51-b806-aa796abb5cea",
   "metadata": {},
   "source": [
    "# Q3. Explain why the ```__init__()``` function is used. Give a suitable example.\n",
    "```__init__() ``` is constructor which is used to intialize the object state.\n",
    "i.e, the task of constructor is to initialize to the data memebers of the class when an object of class is created\n",
    "## for example\n",
    "define\n",
    "```\n",
    "class car :\n",
    "    def __init__(self , model , brand , color):\n",
    "        self.model = model\n",
    "        self.brand = brand\n",
    "        self.color = color\n",
    "```\n",
    "Creating object of class and assigning values using constructor\n",
    "\n",
    "```\n",
    "object1 = car(\"Xt\" , \"kia\" , \"red\")\n",
    "object2 = car(\"SDFD\" , \"ss\" , \"yellow\")\n",
    "```\n",
    "        "
   ]
  },
  {
   "cell_type": "markdown",
   "id": "9c7e2880-c343-4401-8a4e-177a2bf8bab8",
   "metadata": {},
   "source": [
    "# Q4. Why self is used in OOPs?\n",
    " it is a pointer , but it is not a key word in python and other word can be used in place of self and it will too work as pointerinheriting"
   ]
  },
  {
   "cell_type": "markdown",
   "id": "d1252a92-7a93-441d-8b00-ca1371b89ff4",
   "metadata": {},
   "source": [
    "# Q5. What is inheritance? Give an example for each type of inheritance.\n",
    "It is one of 4 pillars of OOPs. it is a process of inheriting/obtaining properties and characteristics of another class \n",
    "i.e , child class can inherit the properties and characterstics of Parent class.\n",
    "this inceases code reusability\n",
    "\n",
    "\n",
    "# Type of inheritance\n",
    " 1. Single inheritance\n",
    "```\n",
    "class parent:\n",
    "    def func(self):\n",
    "        print(\"function is in parent class\")\n",
    "class child(parent):\n",
    "    def func1(self):\n",
    "        print(\"function in child class\")\n",
    "```\n",
    " 2. Multiple inheritance\n",
    "```\n",
    "class parent1:\n",
    "    def func0(self):\n",
    "        print(\"function is in parent class\")\n",
    "class parent2:\n",
    "    def func1(self):\n",
    "        print(\"function is in parent 2 class\")\n",
    "class child(parent1 , parent2):\n",
    "    def func3(self):\n",
    "        print(\"function in child class\")\n",
    "```\n",
    " 3. Multilevel inheritance\n",
    "```\n",
    " class grandparent:\n",
    "    def func0(self):\n",
    "        print(\"function is in grandparent class\")\n",
    " class parent(grandparent):\n",
    "    def func1(self):\n",
    "        print(\"function is in parent class\")\n",
    " class child(parent):\n",
    "    def func2(self):\n",
    "        print(\"function is in child class\")\n",
    "```\n",
    " 4. Hierarchical inheritance\n",
    "```\n",
    " class parent:\n",
    "    def func(self):\n",
    "        print(\"function is in parent class\")\n",
    "class child1(parent):\n",
    "    def func1(self):\n",
    "        print(\"function is in child1 class\")\n",
    "class child2(parent):\n",
    "    def func3(self):\n",
    "        print(\"function is in child2 class\")\n",
    "class child3(parent):\n",
    "    def func4(self):\n",
    "        print(\"function is in child3 class\")\n",
    "```\n",
    "\n",
    "     \n",
    "\n",
    "\n",
    "\n",
    "\n"
   ]
  },
  {
   "cell_type": "code",
   "execution_count": null,
   "id": "e01bfa08-6e2e-446e-8329-6cb587190721",
   "metadata": {},
   "outputs": [],
   "source": []
  }
 ],
 "metadata": {
  "kernelspec": {
   "display_name": "Python 3 (ipykernel)",
   "language": "python",
   "name": "python3"
  },
  "language_info": {
   "codemirror_mode": {
    "name": "ipython",
    "version": 3
   },
   "file_extension": ".py",
   "mimetype": "text/x-python",
   "name": "python",
   "nbconvert_exporter": "python",
   "pygments_lexer": "ipython3",
   "version": "3.10.8"
  }
 },
 "nbformat": 4,
 "nbformat_minor": 5
}
