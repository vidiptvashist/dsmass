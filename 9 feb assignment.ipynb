{
 "cells": [
  {
   "cell_type": "markdown",
   "id": "a1a60723-fca3-4ce2-a637-4cbde15de0d9",
   "metadata": {},
   "source": [
    "# Q1, Create a vehicle class with an init method having instance variables as name_of_vehicle, max_speed and average_of_vehicle."
   ]
  },
  {
   "cell_type": "code",
   "execution_count": 1,
   "id": "cbb32214-a488-4b90-b930-15d3582210a8",
   "metadata": {},
   "outputs": [],
   "source": [
    "class vehicle:\n",
    "    def __init__(self , name_of_vehicle , max_speed , average_of_vehicle):\n",
    "        self.name_of_vehicle = name_of_vehicle\n",
    "        self.max_speed = max_speed\n",
    "        self.average_of_vehicle= average_of_vehicle"
   ]
  },
  {
   "cell_type": "markdown",
   "id": "8fadc157-c0fe-4a76-9e11-47491f1549ca",
   "metadata": {},
   "source": [
    "# Q2. Create a child class car from the vehicle class created in Que 1, which will inherit the vehicle class. Create a method named seating_capacity which takes capacity as an argument and returns the name of the vehicle and its seating capacity."
   ]
  },
  {
   "cell_type": "code",
   "execution_count": 2,
   "id": "a0a80639-69f7-4ee9-95ca-f2c2ef3ad356",
   "metadata": {},
   "outputs": [],
   "source": [
    "class car(vehicle):\n",
    "    def seating_capacity(self , capacity):\n",
    "        return self.name_of_vehicle , self.capcity"
   ]
  },
  {
   "cell_type": "markdown",
   "id": "05b7a8ac-abac-4e8d-82a8-10917555bda0",
   "metadata": {},
   "source": [
    "# Q3. What is multiple inheritance? Write a python code to demonstrate multiple inheritance."
   ]
  },
  {
   "cell_type": "markdown",
   "id": "0374723f-6c00-447c-915c-7707e04c844a",
   "metadata": {},
   "source": [
    "it a type of inheritance in which child class has multiple parent classes.\n",
    "### for example\n",
    "```\n",
    "class parent_1:\n",
    "    def fun_parent_1(self):\n",
    "        print(\"this is method in parent 1\")\n",
    "class parent_2:\n",
    "    def fun_parent_2(self):\n",
    "        print(\"this is method in parent 2\")\n",
    "class child(parent_1 , parent_2)\n",
    "    pass\n",
    "```"
   ]
  },
  {
   "cell_type": "markdown",
   "id": "5a4738d4-91e9-4743-97a6-f6e9a7de60e6",
   "metadata": {},
   "source": [
    "# Q4. What are getter and setter in python? Create a class and create a getter and a setter method in this class."
   ]
  },
  {
   "cell_type": "markdown",
   "id": "d65e4511-d3fd-49ba-a6ad-e98782b0c6e4",
   "metadata": {},
   "source": [
    "Theses method are used when the variables are private so to access data we use Getter method and to assign value to varibale we use Setter method.\n",
    "\n",
    "Getter: A method that allows you to access an variables in a given class\n",
    "\n",
    "Setter: A method that allows you to assign ior mutate the value of an varibales in a class"
   ]
  },
  {
   "cell_type": "code",
   "execution_count": 12,
   "id": "1a6976af-0774-43a6-8100-253df032e83c",
   "metadata": {},
   "outputs": [],
   "source": [
    "class test:\n",
    "    def __init__(self , a , b):\n",
    "        self.__a = a\n",
    "        self.__b = b\n",
    "    #Getter method\n",
    "    def get_a(self):\n",
    "        return self.__a\n",
    "    def get_b(self):\n",
    "        return self.__b\n",
    "    #Setter method\n",
    "    def set_a(self , a):\n",
    "        self.__a = a\n",
    "    def set_b(self , b):\n",
    "        self.__b = b"
   ]
  },
  {
   "cell_type": "code",
   "execution_count": 7,
   "id": "37586ae0-8251-47a4-9179-df321834df62",
   "metadata": {},
   "outputs": [],
   "source": [
    "test_obj = test(1 ,2 )"
   ]
  },
  {
   "cell_type": "code",
   "execution_count": 8,
   "id": "7a70246e-94f0-4655-874c-d955bda4d45c",
   "metadata": {},
   "outputs": [
    {
     "data": {
      "text/plain": [
       "1"
      ]
     },
     "execution_count": 8,
     "metadata": {},
     "output_type": "execute_result"
    }
   ],
   "source": [
    "test_obj.get_a()"
   ]
  },
  {
   "cell_type": "code",
   "execution_count": 9,
   "id": "e5b681f3-2435-421f-98ed-8dcd8efa3608",
   "metadata": {},
   "outputs": [
    {
     "data": {
      "text/plain": [
       "2"
      ]
     },
     "execution_count": 9,
     "metadata": {},
     "output_type": "execute_result"
    }
   ],
   "source": [
    "test_obj.get_b()"
   ]
  },
  {
   "cell_type": "code",
   "execution_count": 10,
   "id": "c7a13766-86cd-4f49-8a3f-8cecf2049d56",
   "metadata": {},
   "outputs": [],
   "source": [
    "test_obj.set_a(55)"
   ]
  },
  {
   "cell_type": "code",
   "execution_count": 11,
   "id": "efb6d97e-dacb-430b-95ff-eefa0c3a96f0",
   "metadata": {},
   "outputs": [
    {
     "data": {
      "text/plain": [
       "55"
      ]
     },
     "execution_count": 11,
     "metadata": {},
     "output_type": "execute_result"
    }
   ],
   "source": [
    "test_obj.get_a()"
   ]
  },
  {
   "cell_type": "code",
   "execution_count": 13,
   "id": "708d3258-bf53-457b-9ea9-f034e8cd7d55",
   "metadata": {},
   "outputs": [],
   "source": [
    "test_obj.set_b(43)"
   ]
  },
  {
   "cell_type": "code",
   "execution_count": 14,
   "id": "9c2caa9f-6fcf-4303-8ef6-97284fd9ef3f",
   "metadata": {},
   "outputs": [
    {
     "data": {
      "text/plain": [
       "43"
      ]
     },
     "execution_count": 14,
     "metadata": {},
     "output_type": "execute_result"
    }
   ],
   "source": [
    "test_obj.get_b()"
   ]
  },
  {
   "cell_type": "markdown",
   "id": "48f1ddd9-c366-4319-bfa2-55c452cd9a58",
   "metadata": {},
   "source": [
    "# Q5.What is method overriding in python? Write a python code to demonstrate method overriding."
   ]
  },
  {
   "cell_type": "markdown",
   "id": "46019807-b3db-42b0-b5fe-a582e5ce3e23",
   "metadata": {},
   "source": [
    "Method overriding is an ability of any object-oriented programming language that allows a child class to provide a specific implementation of a method that is already provided by one of its parent classes.\n",
    "\n",
    "Polymorphism can be implemented using method overriding"
   ]
  },
  {
   "cell_type": "code",
   "execution_count": 45,
   "id": "3e68524d-fb8c-4653-8301-dda4ecec7878",
   "metadata": {},
   "outputs": [],
   "source": [
    "class parent:\n",
    "    def __init__(self , a):\n",
    "        self.a = a\n",
    "    def get_variable(self):\n",
    "        print(\"value of varibale is parent clas is {}\".format(self.a))"
   ]
  },
  {
   "cell_type": "code",
   "execution_count": 51,
   "id": "24f7d07c-866e-477f-9ec8-db182efb70f1",
   "metadata": {},
   "outputs": [],
   "source": [
    "class child(parent):\n",
    "    def __init__(self , b):\n",
    "        self.b = b\n",
    "    def get_variable(self):\n",
    "        print(\"value of varibale is child clas is {}\".format(self.b))"
   ]
  },
  {
   "cell_type": "code",
   "execution_count": 52,
   "id": "7c9a2284-9b78-44be-8a39-ccd3fbe7f197",
   "metadata": {},
   "outputs": [],
   "source": [
    "obj_parent = parent(1)\n",
    "obj_child = child(2)"
   ]
  },
  {
   "cell_type": "code",
   "execution_count": 53,
   "id": "fca9d3c7-6281-44c7-9356-1b80b311c7ee",
   "metadata": {},
   "outputs": [
    {
     "name": "stdout",
     "output_type": "stream",
     "text": [
      "value of varibale is child clas is 2\n"
     ]
    }
   ],
   "source": [
    "obj_child.get_variable()"
   ]
  },
  {
   "cell_type": "code",
   "execution_count": 54,
   "id": "f8540bcd-dd79-4017-8f1a-80d95087c661",
   "metadata": {},
   "outputs": [
    {
     "name": "stdout",
     "output_type": "stream",
     "text": [
      "value of varibale is parent clas is 1\n"
     ]
    }
   ],
   "source": [
    "obj_parent.get_variable()"
   ]
  }
 ],
 "metadata": {
  "kernelspec": {
   "display_name": "Python 3 (ipykernel)",
   "language": "python",
   "name": "python3"
  },
  "language_info": {
   "codemirror_mode": {
    "name": "ipython",
    "version": 3
   },
   "file_extension": ".py",
   "mimetype": "text/x-python",
   "name": "python",
   "nbconvert_exporter": "python",
   "pygments_lexer": "ipython3",
   "version": "3.10.8"
  }
 },
 "nbformat": 4,
 "nbformat_minor": 5
}
