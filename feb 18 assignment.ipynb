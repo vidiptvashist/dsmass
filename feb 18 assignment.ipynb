{
 "cells": [
  {
   "cell_type": "markdown",
   "id": "2af834d7-e727-41e3-90b3-f805b1a232c7",
   "metadata": {},
   "source": [
    "# Q1. What is an API? Give an example, where an API is used in real life."
   ]
  },
  {
   "cell_type": "markdown",
   "id": "2f3df1f6-7634-499a-84f4-ba53137af2a0",
   "metadata": {},
   "source": [
    "APIs are used in web applications to connect user-facing front ends with critical back-end functionality and data. \n",
    "\n",
    "APIs are used to deliver material by streaming services such as Spotify and Netflix"
   ]
  },
  {
   "cell_type": "markdown",
   "id": "63493203-0e53-4421-890e-e48571c0a68b",
   "metadata": {},
   "source": [
    "# Q2. Give advantages and disadvantages of using API.\n"
   ]
  },
  {
   "cell_type": "markdown",
   "id": "652e587a-e1af-4499-a904-bab64088a642",
   "metadata": {
    "tags": []
   },
   "source": [
    "### Advantages\n",
    "1. aid in enriching app functionality\n",
    "2. Innovative technologies\n",
    "3. Reduced expenses and time to market\n",
    "\n",
    "### Disadvantages\n",
    "1. API load testing does not simulate real users interacting with elements of your webpage.\n",
    "2. It doesn’t give you an idea of how user-friendly your application is.\n",
    "3. It doesn’t measure front-end performance or how quickly pages render in different browsers"
   ]
  },
  {
   "cell_type": "markdown",
   "id": "e136a79c-5f10-4cbe-940b-a3ee8f6f4514",
   "metadata": {},
   "source": [
    "# Q3. What is a Web API? Differentiate between API and Web API."
   ]
  },
  {
   "cell_type": "markdown",
   "id": "3ac2a973-08e0-4085-a08e-f7f0e2a4efcb",
   "metadata": {},
   "source": [
    "A Web API is an application programming interface for the Web.\n",
    "It is an API over the web which can be accessed using HTTP protocol. It is a concept and not a technology. We can build Web API using different technologies such as Java, .NET etc. For example, Twitter's REST APIs provide programmatic access to read and write data using which we can integrate twitter's capabilities into our own application.\n",
    "\n",
    "Both APIs and web services are technologies that enable the transfer of data between separate software applications. API is an interface that exposes an application's data to outside software, whereas web applications are one type of API with stricter requirements"
   ]
  },
  {
   "cell_type": "markdown",
   "id": "c720d0b7-5cc4-4e50-b37b-0974bf83a5ab",
   "metadata": {},
   "source": [
    "# Q4. Explain REST and SOAP Architecture. Mention shortcomings of SOAP."
   ]
  },
  {
   "cell_type": "markdown",
   "id": "6cad11f1-c344-4914-8975-14c22cdf976c",
   "metadata": {},
   "source": [
    "### SOAP (Simple Object Access Protocol)\n",
    "is a standards-based web services access protocol that has been around for a long time. Originally developed by Microsoft, SOAP isn’t as simple as the acronym would suggest.\n",
    "\n",
    "SOAP relies exclusively on XML to provide messaging services. Microsoft originally developed SOAP to take the place of older technologies that don’t work well on the internet The point is that SOAP is highly extensible, but you only use the pieces you need for a particular task. For example, when using a public web service that’s freely available to everyone, you really don’t have much need for WS-Security.\n",
    "\n",
    "### REST (Representational State Transfer) \n",
    "is another standard, made in response to SOAP’s shortcomings. It seeks to fix the problems with SOAP and provide a simpler method of accessing web services. \n",
    "\n",
    "Instead of using XML to make a request, REST (usually) relies on a simple URL. In some situations you must provide additional information, but most web services using REST rely exclusively on using the URL approach. REST can use four different HTTP 1.1 verbs (GET, POST, PUT, and DELETE) to perform tasks.\n",
    "\n",
    "### Shortcoming of SOAP\n",
    "SOAP uses XML format that must be parsed to be read. It defines many standards that must be followed while developing the SOAP applications. So it is slow and consumes more bandwidth and resource"
   ]
  },
  {
   "cell_type": "markdown",
   "id": "8618220c-7194-468c-b045-38f3338f5f61",
   "metadata": {},
   "source": [
    "# Q5. Differentiate between REST and SOAP."
   ]
  },
  {
   "cell_type": "markdown",
   "id": "1d314d1a-6930-45a5-8526-a502a8f853b4",
   "metadata": {},
   "source": [
    "| SOAP| REST |\n",
    "| :- | :- |\n",
    "| A CML based message protocol | An Architectural style protocol | \n",
    "| Uses WSDL for communication between consumer and provider | Uses XML or JSON to send and receive data | \n",
    "| Invokes services by calling RPC method | Simply call services via URL | \n",
    "| Does not return human readable result | Result is readable which is just plain XML or JSON | \n",
    "| Transfer over HTTP,SMTP,FTP..etc | Transfer over HTTP only | \n"
   ]
  }
 ],
 "metadata": {
  "kernelspec": {
   "display_name": "Python 3 (ipykernel)",
   "language": "python",
   "name": "python3"
  },
  "language_info": {
   "codemirror_mode": {
    "name": "ipython",
    "version": 3
   },
   "file_extension": ".py",
   "mimetype": "text/x-python",
   "name": "python",
   "nbconvert_exporter": "python",
   "pygments_lexer": "ipython3",
   "version": "3.10.8"
  }
 },
 "nbformat": 4,
 "nbformat_minor": 5
}
